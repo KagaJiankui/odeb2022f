{
 "cells": [
  {
   "cell_type": "markdown",
   "metadata": {},
   "source": [
    "# ODE Homework 2\n",
    "\n",
    "Author: Qiu Kunyuan [11913019@mail.sustech.edu.cn](mailto://11913019@mail.sustech.edu.cn)\n",
    "\n",
    "Problems:\n",
    "- Problem 2.2\n",
    "  - 3\n",
    "  - 5\n",
    "  - 9\n",
    "  - 11\n",
    "  - 17\n",
    "  - 24\n",
    "  - 25\n",
    "\n",
    "- Problem 2.6\n",
    "  - 3\n",
    "  - 5\n",
    "  - 7\n",
    "  - 17\n",
    "  - 22"
   ]
  },
  {
   "cell_type": "code",
   "execution_count": null,
   "metadata": {},
   "outputs": [],
   "source": []
  }
 ],
 "metadata": {
  "kernelspec": {
   "display_name": "Python 3.9.13 ('base')",
   "language": "python",
   "name": "python3"
  },
  "language_info": {
   "name": "python",
   "version": "3.9.13"
  },
  "orig_nbformat": 4,
  "vscode": {
   "interpreter": {
    "hash": "ad2bdc8ecc057115af97d19610ffacc2b4e99fae6737bb82f5d7fb13d2f2c186"
   }
  }
 },
 "nbformat": 4,
 "nbformat_minor": 2
}
